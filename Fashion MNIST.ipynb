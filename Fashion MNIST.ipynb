{
 "cells": [
  {
   "cell_type": "markdown",
   "metadata": {},
   "source": [
    "# Classifying Fashion-MNIST\n",
    "\n",
    "You'll be using the [Fashion-MNIST dataset](https://github.com/zalandoresearch/fashion-mnist), a drop-in replacement for the MNIST dataset. MNIST is actually quite trivial with neural networks where you can easily achieve better than 97% accuracy. Fashion-MNIST is a set of 28x28 greyscale images of clothes. It's more complex than MNIST, so it's a better representation of the actual performance of your network, and a better representation of datasets you'll use in the real world.\n",
    "\n",
    "<img src='assets/fashion-mnist-sprite.png' width=500px>\n",
    "\n",
    "In this notebook, you'll build your own neural network. \n",
    "\n",
    "First off, let's load the dataset through torchvision."
   ]
  },
  {
   "cell_type": "code",
   "execution_count": 1,
   "metadata": {},
   "outputs": [],
   "source": [
    "import torch\n",
    "from torchvision import datasets , transforms\n",
    "import helper\n",
    "from torch import nn\n",
    "from torch import optim\n",
    "import torch.nn.functional as F"
   ]
  },
  {
   "cell_type": "code",
   "execution_count": 2,
   "metadata": {},
   "outputs": [],
   "source": [
    "#Defining a transform to normalise the data\n",
    "transform = transforms.Compose([transforms.ToTensor() , transforms.Normalize((0.5,),(0.5,))])"
   ]
  },
  {
   "cell_type": "code",
   "execution_count": 3,
   "metadata": {},
   "outputs": [],
   "source": [
    "#Downlaod and load Train Data\n",
    "trainset = datasets.FashionMNIST('./FashionMNIST',download=True,train=True,transform=transform)\n",
    "trainloader = torch.utils.data.DataLoader(trainset , batch_size=64 , shuffle=True)"
   ]
  },
  {
   "cell_type": "code",
   "execution_count": 4,
   "metadata": {},
   "outputs": [],
   "source": [
    "#Downlaod and load Test Data\n",
    "testset = datasets.FashionMNIST('./FashionMNIST',download=True,train=False,transform=transform)\n",
    "testloader = torch.utils.data.DataLoader(testset , batch_size=64 , shuffle=True)"
   ]
  },
  {
   "cell_type": "markdown",
   "metadata": {},
   "source": [
    "Here we can see one of the images."
   ]
  },
  {
   "cell_type": "code",
   "execution_count": 5,
   "metadata": {},
   "outputs": [
    {
     "name": "stdout",
     "output_type": "stream",
     "text": [
      "torch.Size([64, 1, 28, 28])\n"
     ]
    },
    {
     "data": {
      "text/plain": [
       "<matplotlib.axes._subplots.AxesSubplot at 0x12265b7b8>"
      ]
     },
     "execution_count": 5,
     "metadata": {},
     "output_type": "execute_result"
    },
    {
     "data": {
      "image/png": "[encoded data removed]",
      "text/plain": [
       "<Figure size 432x288 with 1 Axes>"
      ]
     },
     "metadata": {
      "needs_background": "light"
     },
     "output_type": "display_data"
    }
   ],
   "source": [
    "image , label = next(iter(trainloader))\n",
    "print(image.shape)\n",
    "helper.imshow(image[0,:])"
   ]
  },
  {
   "cell_type": "code",
   "execution_count": 6,
   "metadata": {},
   "outputs": [
    {
     "data": {
      "text/plain": [
       "<matplotlib.image.AxesImage at 0x125cab470>"
      ]
     },
     "execution_count": 6,
     "metadata": {},
     "output_type": "execute_result"
    },
    {
     "data": {
      "image/png": "[encoded data removed]",
      "text/plain": [
       "<Figure size 432x288 with 1 Axes>"
      ]
     },
     "metadata": {
      "needs_background": "light"
     },
     "output_type": "display_data"
    }
   ],
   "source": [
    "#Matplot implementation\n",
    "import matplotlib.pyplot as plt\n",
    "plt.imshow(image[0].numpy().reshape(28,28))"
   ]
  },
  {
   "cell_type": "markdown",
   "metadata": {},
   "source": [
    "## Building the network\n",
    "\n",
    "Here you should define your network. As with MNIST, each image is 28x28 which is a total of 784 pixels, and there are 10 classes. You should include at least one hidden layer. We suggest you use ReLU activations for the layers and to return the logits or log-softmax from the forward pass. It's up to you how many layers you add and the size of those layers."
   ]
  },
  {
   "cell_type": "code",
   "execution_count": 7,
   "metadata": {},
   "outputs": [
    {
     "name": "stdout",
     "output_type": "stream",
     "text": [
      "Model Architecture Ready\n"
     ]
    }
   ],
   "source": [
    "class classifier(nn.Module):\n",
    "    def __init__(self):\n",
    "        \n",
    "        super().__init__()\n",
    "        self.fc1 = nn.Linear(784,256)\n",
    "        self.fc2 = nn.Linear(256,128)\n",
    "        self.fc3 = nn.Linear(128,32)\n",
    "        self.fc4 = nn.Linear(32,10)\n",
    "        \n",
    "    def forward(self , x):\n",
    "        \n",
    "        x = F.relu(self.fc1(x))\n",
    "        x = F.relu(self.fc2(x))\n",
    "        x = F.relu(self.fc3(x))\n",
    "        x = F.log_softmax(self.fc4(x) , dim=1)\n",
    "        \n",
    "        return x\n",
    "    \n",
    "#You can also make the architecture using nn.Sequential like below\n",
    "'''\n",
    "model = nn.Sequential(nn.Linear(784,256),\n",
    "                     nn.ReLU(),\n",
    "                     nn.Linear(256,128),\n",
    "                     nn.ReLU(),\n",
    "                     nn.Linear(128,32),\n",
    "                     nn.ReLU(),\n",
    "                     nn.Linear(32,10),\n",
    "                     nn.LogSoftmax(dim=1))\n",
    "'''\n",
    "print('Model Architecture Ready')"
   ]
  },
  {
   "cell_type": "code",
   "execution_count": 8,
   "metadata": {},
   "outputs": [],
   "source": [
    "model = classifier()"
   ]
  },
  {
   "cell_type": "code",
   "execution_count": 9,
   "metadata": {},
   "outputs": [],
   "source": [
    "criterion = nn.NLLLoss()\n",
    "optimizer = optim.Adam(model.parameters() , lr=0.003)"
   ]
  },
  {
   "cell_type": "code",
   "execution_count": 10,
   "metadata": {},
   "outputs": [
    {
     "name": "stdout",
     "output_type": "stream",
     "text": [
      "Training Loss:0.0006830405706027423\n",
      "Training Loss:0.0003481190214787465\n",
      "Training Loss:0.00024822416272498904\n",
      "Training Loss:6.80576064693394e-05\n",
      "Training Loss:0.00020510285520858603\n"
     ]
    }
   ],
   "source": [
    "epochs = 5\n",
    "\n",
    "for e in range(epochs):\n",
    "    \n",
    "    for image , label in trainloader:\n",
    "        runningLoss = 0\n",
    "        #Flatten\n",
    "        image = image.view(image.shape[0],-1)\n",
    "\n",
    "        #Zero the gradients\n",
    "        optimizer.zero_grad()\n",
    "\n",
    "        #Forward Pass\n",
    "        output = model.forward(image)# You can also call model(image) directly\n",
    "\n",
    "        #Calculate Loss\n",
    "        loss = criterion(output , label)\n",
    "\n",
    "        #Backward pass\n",
    "        loss.backward()\n",
    "\n",
    "        #Update Weights\n",
    "        optimizer.step()\n",
    "\n",
    "        runningLoss += loss.item()\n",
    "    \n",
    "    else:\n",
    "        print(f\"Training Loss:{runningLoss/len(trainloader) }\")"
   ]
  },
  {
   "cell_type": "code",
   "execution_count": 11,
   "metadata": {},
   "outputs": [
    {
     "name": "stderr",
     "output_type": "stream",
     "text": [
      "/Library/Frameworks/Python.framework/Versions/3.6/lib/python3.6/site-packages/torch/tensor.py:287: UserWarning: non-inplace resize is deprecated\n",
      "  warnings.warn(\"non-inplace resize is deprecated\")\n"
     ]
    },
    {
     "data": {
      "image/png": "[encoded data removed]",
      "text/plain": [
       "<Figure size 432x648 with 2 Axes>"
      ]
     },
     "metadata": {
      "needs_background": "light"
     },
     "output_type": "display_data"
    }
   ],
   "source": [
    "images , labels = next(iter(testloader))\n",
    "img = images[0]\n",
    "img.resize_(1,784)\n",
    "\n",
    "with torch.no_grad():\n",
    "    logps = model.forward(img)\n",
    "\n",
    "ps = torch.exp(logps)\n",
    "\n",
    "helper.view_classify(img.resize(1,28,28) , ps , version='Fashion')"
   ]
  },
  {
   "cell_type": "markdown",
   "metadata": {},
   "source": [
    "# Cheers!"
   ]
  }
 ],
 "metadata": {
  "kernelspec": {
   "display_name": "Python 3",
   "language": "python",
   "name": "python3"
  },
  "language_info": {
   "codemirror_mode": {
    "name": "ipython",
    "version": 3
   },
   "file_extension": ".py",
   "mimetype": "text/x-python",
   "name": "python",
   "nbconvert_exporter": "python",
   "pygments_lexer": "ipython3",
   "version": "3.6.4"
  }
 },
 "nbformat": 4,
 "nbformat_minor": 2
}
